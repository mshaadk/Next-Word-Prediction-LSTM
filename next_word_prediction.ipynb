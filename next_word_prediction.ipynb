{
  "cells": [
    {
      "cell_type": "markdown",
      "metadata": {
        "id": "OxeQtQIbgY2U"
      },
      "source": [
        "# 1. Importing Libraries"
      ]
    },
    {
      "cell_type": "code",
      "execution_count": 1,
      "metadata": {
        "id": "ZlkF8wITgblR"
      },
      "outputs": [],
      "source": [
        "import numpy as np\n",
        "import tensorflow as tf\n",
        "from tensorflow.keras.preprocessing.text import Tokenizer\n",
        "from tensorflow.keras.preprocessing.sequence import pad_sequences\n",
        "from tensorflow.keras.models import Sequential\n",
        "from tensorflow.keras.layers import Embedding, LSTM, Dense"
      ]
    },
    {
      "cell_type": "markdown",
      "metadata": {
        "id": "co3_w7hkgp1B"
      },
      "source": [
        "# 2. Loading data"
      ]
    },
    {
      "cell_type": "code",
      "execution_count": 2,
      "metadata": {
        "id": "nR83EmnwgriF"
      },
      "outputs": [],
      "source": [
        "with open('sherlock-holm.es_stories_plain-text_advs.txt', 'r', encoding='utf-8') as file:\n",
        "    text = file.read()"
      ]
    },
    {
      "cell_type": "markdown",
      "metadata": {
        "id": "GEOn2FvbgvOZ"
      },
      "source": [
        "# 3. Tokenizing the text to create sequence of words"
      ]
    },
    {
      "cell_type": "code",
      "execution_count": 3,
      "metadata": {
        "id": "ZJz48nfXgynf"
      },
      "outputs": [],
      "source": [
        "tokenizer = Tokenizer()\n",
        "tokenizer.fit_on_texts([text])\n",
        "total_words = len(tokenizer.word_index) + 1"
      ]
    },
    {
      "cell_type": "markdown",
      "metadata": {
        "id": "b9tHzFHog4_Q"
      },
      "source": [
        "# 4. Creating input-output pairs"
      ]
    },
    {
      "cell_type": "code",
      "execution_count": 4,
      "metadata": {
        "id": "7CJ-tqCig9TT"
      },
      "outputs": [],
      "source": [
        "input_sequences = []\n",
        "for line in text.split('\\n'):\n",
        "    token_list = tokenizer.texts_to_sequences([line])[0]\n",
        "    for i in range(1,len(token_list)):\n",
        "        n_gram_sequence = token_list[:i+1]\n",
        "        input_sequences.append(n_gram_sequence)"
      ]
    },
    {
      "cell_type": "markdown",
      "metadata": {
        "id": "UZ5nl_mkhBtC"
      },
      "source": [
        "# 5. Padding input sequences to have equal length"
      ]
    },
    {
      "cell_type": "code",
      "execution_count": 5,
      "metadata": {
        "id": "I9ATEuyVhFJw"
      },
      "outputs": [],
      "source": [
        "max_sequence_len = max([len(seq) for seq in input_sequences])\n",
        "input_sequences = np.array(pad_sequences(input_sequences,maxlen=max_sequence_len, padding='pre'))"
      ]
    },
    {
      "cell_type": "markdown",
      "metadata": {
        "id": "IWGd-m5DhIfJ"
      },
      "source": [
        "# 6. Splitting sequences into input and output"
      ]
    },
    {
      "cell_type": "code",
      "execution_count": 6,
      "metadata": {
        "id": "wX9CPhSQhK3m"
      },
      "outputs": [],
      "source": [
        "X = input_sequences[:,:-1]\n",
        "y = input_sequences[:,-1]"
      ]
    },
    {
      "cell_type": "markdown",
      "metadata": {
        "id": "-Lj1j_lnhSSe"
      },
      "source": [
        "# 7. Converting the output to one-hot encode vectors"
      ]
    },
    {
      "cell_type": "code",
      "execution_count": 7,
      "metadata": {
        "id": "pHzcSwRKhUn0"
      },
      "outputs": [],
      "source": [
        "y = np.array(tf.keras.utils.to_categorical(y,num_classes=total_words))"
      ]
    },
    {
      "cell_type": "markdown",
      "metadata": {
        "id": "zIYGqoaPhZOB"
      },
      "source": [
        "# 8. Building Neural Network Architecture"
      ]
    },
    {
      "cell_type": "code",
      "execution_count": 8,
      "metadata": {
        "colab": {
          "base_uri": "https://localhost:8080/"
        },
        "id": "k2OU6vZ7hb_1",
        "outputId": "9cbab916-5de8-4370-9a20-41f097954262"
      },
      "outputs": [
        {
          "name": "stdout",
          "output_type": "stream",
          "text": [
            "Model: \"sequential\"\n",
            "_________________________________________________________________\n",
            " Layer (type)                Output Shape              Param #   \n",
            "=================================================================\n",
            " embedding (Embedding)       (None, 17, 100)           820000    \n",
            "                                                                 \n",
            " lstm (LSTM)                 (None, 150)               150600    \n",
            "                                                                 \n",
            " dense (Dense)               (None, 8200)              1238200   \n",
            "                                                                 \n",
            "=================================================================\n",
            "Total params: 2208800 (8.43 MB)\n",
            "Trainable params: 2208800 (8.43 MB)\n",
            "Non-trainable params: 0 (0.00 Byte)\n",
            "_________________________________________________________________\n",
            "None\n"
          ]
        }
      ],
      "source": [
        "model = Sequential()\n",
        "model.add(Embedding(total_words,100,input_length = max_sequence_len-1))\n",
        "model.add(LSTM(150))\n",
        "model.add(Dense(total_words,activation='softmax'))\n",
        "print(model.summary())"
      ]
    },
    {
      "cell_type": "markdown",
      "metadata": {
        "id": "_fOJJSxihi8n"
      },
      "source": [
        "# 9. Compile and Train the model"
      ]
    },
    {
      "cell_type": "code",
      "execution_count": 9,
      "metadata": {
        "colab": {
          "base_uri": "https://localhost:8080/"
        },
        "id": "Fcywfb9Yhkjy",
        "outputId": "d62ea264-0ed8-4af9-c120-687ca5f54836"
      },
      "outputs": [
        {
          "name": "stdout",
          "output_type": "stream",
          "text": [
            "Epoch 1/100\n",
            "3010/3010 [==============================] - 45s 12ms/step - loss: 6.2291 - accuracy: 0.0794\n",
            "Epoch 2/100\n",
            "3010/3010 [==============================] - 27s 9ms/step - loss: 5.4824 - accuracy: 0.1255\n",
            "Epoch 3/100\n",
            "3010/3010 [==============================] - 27s 9ms/step - loss: 5.1088 - accuracy: 0.1471\n",
            "Epoch 4/100\n",
            "3010/3010 [==============================] - 26s 8ms/step - loss: 4.7820 - accuracy: 0.1661\n",
            "Epoch 5/100\n",
            "3010/3010 [==============================] - 25s 8ms/step - loss: 4.4807 - accuracy: 0.1838\n",
            "Epoch 6/100\n",
            "3010/3010 [==============================] - 25s 8ms/step - loss: 4.2009 - accuracy: 0.2046\n",
            "Epoch 7/100\n",
            "3010/3010 [==============================] - 25s 8ms/step - loss: 3.9321 - accuracy: 0.2279\n",
            "Epoch 8/100\n",
            "3010/3010 [==============================] - 27s 9ms/step - loss: 3.6779 - accuracy: 0.2558\n",
            "Epoch 9/100\n",
            "3010/3010 [==============================] - 25s 8ms/step - loss: 3.4362 - accuracy: 0.2909\n",
            "Epoch 10/100\n",
            "3010/3010 [==============================] - 25s 8ms/step - loss: 3.2103 - accuracy: 0.3257\n",
            "Epoch 11/100\n",
            "3010/3010 [==============================] - 25s 8ms/step - loss: 3.0012 - accuracy: 0.3607\n",
            "Epoch 12/100\n",
            "3010/3010 [==============================] - 28s 9ms/step - loss: 2.8085 - accuracy: 0.3958\n",
            "Epoch 13/100\n",
            "3010/3010 [==============================] - 25s 8ms/step - loss: 2.6309 - accuracy: 0.4275\n",
            "Epoch 14/100\n",
            "3010/3010 [==============================] - 24s 8ms/step - loss: 2.4668 - accuracy: 0.4586\n",
            "Epoch 15/100\n",
            "3010/3010 [==============================] - 25s 8ms/step - loss: 2.3150 - accuracy: 0.4891\n",
            "Epoch 16/100\n",
            "3010/3010 [==============================] - 26s 9ms/step - loss: 2.1777 - accuracy: 0.5177\n",
            "Epoch 17/100\n",
            "3010/3010 [==============================] - 26s 9ms/step - loss: 2.0506 - accuracy: 0.5426\n",
            "Epoch 18/100\n",
            "3010/3010 [==============================] - 25s 8ms/step - loss: 1.9351 - accuracy: 0.5671\n",
            "Epoch 19/100\n",
            "3010/3010 [==============================] - 25s 8ms/step - loss: 1.8270 - accuracy: 0.5897\n",
            "Epoch 20/100\n",
            "3010/3010 [==============================] - 25s 8ms/step - loss: 1.7287 - accuracy: 0.6108\n",
            "Epoch 21/100\n",
            "3010/3010 [==============================] - 27s 9ms/step - loss: 1.6400 - accuracy: 0.6296\n",
            "Epoch 22/100\n",
            "3010/3010 [==============================] - 25s 8ms/step - loss: 1.5564 - accuracy: 0.6492\n",
            "Epoch 23/100\n",
            "3010/3010 [==============================] - 24s 8ms/step - loss: 1.4810 - accuracy: 0.6653\n",
            "Epoch 24/100\n",
            "3010/3010 [==============================] - 25s 8ms/step - loss: 1.4105 - accuracy: 0.6804\n",
            "Epoch 25/100\n",
            "3010/3010 [==============================] - 27s 9ms/step - loss: 1.3440 - accuracy: 0.6953\n",
            "Epoch 26/100\n",
            "3010/3010 [==============================] - 25s 8ms/step - loss: 1.2834 - accuracy: 0.7081\n",
            "Epoch 27/100\n",
            "3010/3010 [==============================] - 24s 8ms/step - loss: 1.2310 - accuracy: 0.7199\n",
            "Epoch 28/100\n",
            "3010/3010 [==============================] - 25s 8ms/step - loss: 1.1794 - accuracy: 0.7318\n",
            "Epoch 29/100\n",
            "3010/3010 [==============================] - 26s 9ms/step - loss: 1.1318 - accuracy: 0.7418\n",
            "Epoch 30/100\n",
            "3010/3010 [==============================] - 27s 9ms/step - loss: 1.0919 - accuracy: 0.7510\n",
            "Epoch 31/100\n",
            "3010/3010 [==============================] - 25s 8ms/step - loss: 1.0478 - accuracy: 0.7609\n",
            "Epoch 32/100\n",
            "3010/3010 [==============================] - 25s 8ms/step - loss: 1.0148 - accuracy: 0.7684\n",
            "Epoch 33/100\n",
            "3010/3010 [==============================] - 25s 8ms/step - loss: 0.9785 - accuracy: 0.7763\n",
            "Epoch 34/100\n",
            "3010/3010 [==============================] - 27s 9ms/step - loss: 0.9486 - accuracy: 0.7828\n",
            "Epoch 35/100\n",
            "3010/3010 [==============================] - 25s 8ms/step - loss: 0.9148 - accuracy: 0.7898\n",
            "Epoch 36/100\n",
            "3010/3010 [==============================] - 25s 8ms/step - loss: 0.8869 - accuracy: 0.7958\n",
            "Epoch 37/100\n",
            "3010/3010 [==============================] - 25s 8ms/step - loss: 0.8664 - accuracy: 0.8004\n",
            "Epoch 38/100\n",
            "3010/3010 [==============================] - 27s 9ms/step - loss: 0.8412 - accuracy: 0.8047\n",
            "Epoch 39/100\n",
            "3010/3010 [==============================] - 26s 9ms/step - loss: 0.8209 - accuracy: 0.8086\n",
            "Epoch 40/100\n",
            "3010/3010 [==============================] - 25s 8ms/step - loss: 0.7978 - accuracy: 0.8153\n",
            "Epoch 41/100\n",
            "3010/3010 [==============================] - 25s 8ms/step - loss: 0.7818 - accuracy: 0.8175\n",
            "Epoch 42/100\n",
            "3010/3010 [==============================] - 25s 8ms/step - loss: 0.7624 - accuracy: 0.8228\n",
            "Epoch 43/100\n",
            "3010/3010 [==============================] - 27s 9ms/step - loss: 0.7488 - accuracy: 0.8246\n",
            "Epoch 44/100\n",
            "3010/3010 [==============================] - 25s 8ms/step - loss: 0.7334 - accuracy: 0.8273\n",
            "Epoch 45/100\n",
            "3010/3010 [==============================] - 25s 8ms/step - loss: 0.7187 - accuracy: 0.8302\n",
            "Epoch 46/100\n",
            "3010/3010 [==============================] - 25s 8ms/step - loss: 0.7033 - accuracy: 0.8343\n",
            "Epoch 47/100\n",
            "3010/3010 [==============================] - 26s 9ms/step - loss: 0.6971 - accuracy: 0.8342\n",
            "Epoch 48/100\n",
            "3010/3010 [==============================] - 26s 9ms/step - loss: 0.6804 - accuracy: 0.8392\n",
            "Epoch 49/100\n",
            "3010/3010 [==============================] - 25s 8ms/step - loss: 0.6716 - accuracy: 0.8406\n",
            "Epoch 50/100\n",
            "3010/3010 [==============================] - 25s 8ms/step - loss: 0.6611 - accuracy: 0.8423\n",
            "Epoch 51/100\n",
            "3010/3010 [==============================] - 25s 8ms/step - loss: 0.6523 - accuracy: 0.8445\n",
            "Epoch 52/100\n",
            "3010/3010 [==============================] - 27s 9ms/step - loss: 0.6431 - accuracy: 0.8455\n",
            "Epoch 53/100\n",
            "3010/3010 [==============================] - 24s 8ms/step - loss: 0.6379 - accuracy: 0.8459\n",
            "Epoch 54/100\n",
            "3010/3010 [==============================] - 26s 9ms/step - loss: 0.6299 - accuracy: 0.8480\n",
            "Epoch 55/100\n",
            "3010/3010 [==============================] - 26s 9ms/step - loss: 0.6249 - accuracy: 0.8488\n",
            "Epoch 56/100\n",
            "3010/3010 [==============================] - 24s 8ms/step - loss: 0.6170 - accuracy: 0.8500\n",
            "Epoch 57/100\n",
            "3010/3010 [==============================] - 25s 8ms/step - loss: 0.6102 - accuracy: 0.8510\n",
            "Epoch 58/100\n",
            "3010/3010 [==============================] - 25s 8ms/step - loss: 0.6095 - accuracy: 0.8503\n",
            "Epoch 59/100\n",
            "3010/3010 [==============================] - 28s 9ms/step - loss: 0.5969 - accuracy: 0.8546\n",
            "Epoch 60/100\n",
            "3010/3010 [==============================] - 24s 8ms/step - loss: 0.5963 - accuracy: 0.8534\n",
            "Epoch 61/100\n",
            "3010/3010 [==============================] - 25s 8ms/step - loss: 0.5882 - accuracy: 0.8560\n",
            "Epoch 62/100\n",
            "3010/3010 [==============================] - 24s 8ms/step - loss: 0.5834 - accuracy: 0.8559\n",
            "Epoch 63/100\n",
            "3010/3010 [==============================] - 28s 9ms/step - loss: 0.5795 - accuracy: 0.8570\n",
            "Epoch 64/100\n",
            "3010/3010 [==============================] - 24s 8ms/step - loss: 0.5758 - accuracy: 0.8582\n",
            "Epoch 65/100\n",
            "3010/3010 [==============================] - 24s 8ms/step - loss: 0.5736 - accuracy: 0.8573\n",
            "Epoch 66/100\n",
            "3010/3010 [==============================] - 25s 8ms/step - loss: 0.5664 - accuracy: 0.8600\n",
            "Epoch 67/100\n",
            "3010/3010 [==============================] - 27s 9ms/step - loss: 0.5663 - accuracy: 0.8586\n",
            "Epoch 68/100\n",
            "3010/3010 [==============================] - 25s 8ms/step - loss: 0.5587 - accuracy: 0.8605\n",
            "Epoch 69/100\n",
            "3010/3010 [==============================] - 24s 8ms/step - loss: 0.5591 - accuracy: 0.8598\n",
            "Epoch 70/100\n",
            "3010/3010 [==============================] - 24s 8ms/step - loss: 0.5546 - accuracy: 0.8611\n",
            "Epoch 71/100\n",
            "3010/3010 [==============================] - 26s 9ms/step - loss: 0.5527 - accuracy: 0.8620\n",
            "Epoch 72/100\n",
            "3010/3010 [==============================] - 26s 9ms/step - loss: 0.5491 - accuracy: 0.8625\n",
            "Epoch 73/100\n",
            "3010/3010 [==============================] - 24s 8ms/step - loss: 0.5427 - accuracy: 0.8642\n",
            "Epoch 74/100\n",
            "3010/3010 [==============================] - 25s 8ms/step - loss: 0.5464 - accuracy: 0.8616\n",
            "Epoch 75/100\n",
            "3010/3010 [==============================] - 25s 8ms/step - loss: 0.5422 - accuracy: 0.8620\n",
            "Epoch 76/100\n",
            "3010/3010 [==============================] - 28s 9ms/step - loss: 0.5389 - accuracy: 0.8631\n",
            "Epoch 77/100\n",
            "3010/3010 [==============================] - 25s 8ms/step - loss: 0.5399 - accuracy: 0.8635\n",
            "Epoch 78/100\n",
            "3010/3010 [==============================] - 25s 8ms/step - loss: 0.5450 - accuracy: 0.8619\n",
            "Epoch 79/100\n",
            "3010/3010 [==============================] - 24s 8ms/step - loss: 0.5338 - accuracy: 0.8648\n",
            "Epoch 80/100\n",
            "3010/3010 [==============================] - 28s 9ms/step - loss: 0.5326 - accuracy: 0.8638\n",
            "Epoch 81/100\n",
            "3010/3010 [==============================] - 25s 8ms/step - loss: 0.5309 - accuracy: 0.8651\n",
            "Epoch 82/100\n",
            "3010/3010 [==============================] - 25s 8ms/step - loss: 0.5353 - accuracy: 0.8628\n",
            "Epoch 83/100\n",
            "3010/3010 [==============================] - 25s 8ms/step - loss: 0.5314 - accuracy: 0.8636\n",
            "Epoch 84/100\n",
            "3010/3010 [==============================] - 27s 9ms/step - loss: 0.5345 - accuracy: 0.8623\n",
            "Epoch 85/100\n",
            "3010/3010 [==============================] - 25s 8ms/step - loss: 0.5240 - accuracy: 0.8650\n",
            "Epoch 86/100\n",
            "3010/3010 [==============================] - 25s 8ms/step - loss: 0.5210 - accuracy: 0.8652\n",
            "Epoch 87/100\n",
            "3010/3010 [==============================] - 25s 8ms/step - loss: 0.5248 - accuracy: 0.8649\n",
            "Epoch 88/100\n",
            "3010/3010 [==============================] - 26s 9ms/step - loss: 0.5203 - accuracy: 0.8655\n",
            "Epoch 89/100\n",
            "3010/3010 [==============================] - 26s 9ms/step - loss: 0.5150 - accuracy: 0.8673\n",
            "Epoch 90/100\n",
            "3010/3010 [==============================] - 25s 8ms/step - loss: 0.5149 - accuracy: 0.8675\n",
            "Epoch 91/100\n",
            "3010/3010 [==============================] - 25s 8ms/step - loss: 0.5177 - accuracy: 0.8658\n",
            "Epoch 92/100\n",
            "3010/3010 [==============================] - 25s 8ms/step - loss: 0.5144 - accuracy: 0.8670\n",
            "Epoch 93/100\n",
            "3010/3010 [==============================] - 27s 9ms/step - loss: 0.5177 - accuracy: 0.8656\n",
            "Epoch 94/100\n",
            "3010/3010 [==============================] - 25s 8ms/step - loss: 0.5172 - accuracy: 0.8645\n",
            "Epoch 95/100\n",
            "3010/3010 [==============================] - 25s 8ms/step - loss: 0.5144 - accuracy: 0.8659\n",
            "Epoch 96/100\n",
            "3010/3010 [==============================] - 25s 8ms/step - loss: 0.5184 - accuracy: 0.8645\n",
            "Epoch 97/100\n",
            "3010/3010 [==============================] - 28s 9ms/step - loss: 0.5142 - accuracy: 0.8648\n",
            "Epoch 98/100\n",
            "3010/3010 [==============================] - 25s 8ms/step - loss: 0.5151 - accuracy: 0.8657\n",
            "Epoch 99/100\n",
            "3010/3010 [==============================] - 25s 8ms/step - loss: 0.5147 - accuracy: 0.8649\n",
            "Epoch 100/100\n",
            "3010/3010 [==============================] - 25s 8ms/step - loss: 0.5103 - accuracy: 0.8662\n"
          ]
        },
        {
          "data": {
            "text/plain": [
              "<keras.src.callbacks.History at 0x7ec496d52e30>"
            ]
          },
          "execution_count": 9,
          "metadata": {},
          "output_type": "execute_result"
        }
      ],
      "source": [
        "model.compile(loss='categorical_crossentropy',optimizer='adam',metrics=['accuracy'])\n",
        "model.fit(X,y,epochs=100,verbose=1)"
      ]
    },
    {
      "cell_type": "markdown",
      "metadata": {
        "id": "A1yQdK-Ztxfc"
      },
      "source": [
        "# 10. Saving the model"
      ]
    },
    {
      "cell_type": "code",
      "execution_count": 18,
      "metadata": {
        "colab": {
          "base_uri": "https://localhost:8080/"
        },
        "id": "2PU8x5AZt1Az",
        "outputId": "485ee8f8-9764-49cc-ec7a-9b9421bd291a"
      },
      "outputs": [
        {
          "name": "stderr",
          "output_type": "stream",
          "text": [
            "/usr/local/lib/python3.10/dist-packages/keras/src/engine/training.py:3079: UserWarning: You are saving your model as an HDF5 file via `model.save()`. This file format is considered legacy. We recommend using instead the native Keras format, e.g. `model.save('my_model.keras')`.\n",
            "  saving_api.save_model(\n"
          ]
        }
      ],
      "source": [
        "model.save('nwp_model.h5')"
      ]
    },
    {
      "cell_type": "markdown",
      "metadata": {
        "id": "8ihSV2RZssYZ"
      },
      "source": [
        "# 11. Generating the next word predictions"
      ]
    },
    {
      "cell_type": "code",
      "execution_count": 19,
      "metadata": {
        "colab": {
          "base_uri": "https://localhost:8080/"
        },
        "id": "JmnJY8A1stqJ",
        "outputId": "7e9fde24-b650-45f7-9e36-7efb491be3fc"
      },
      "outputs": [
        {
          "name": "stdout",
          "output_type": "stream",
          "text": [
            "1/1 [==============================] - 0s 326ms/step\n",
            "1/1 [==============================] - 0s 22ms/step\n",
            "I am excited to the altar\n"
          ]
        }
      ],
      "source": [
        "from tensorflow.keras.models import load_model\n",
        "# Load the saved model\n",
        "model = load_model('nwp_model.h5')  # Replace 'my_model.h5' with the path to your saved model\n",
        "\n",
        "seed_text = \"I am excited to\"\n",
        "next_words = 2\n",
        "\n",
        "for _ in range(next_words):\n",
        "    token_list = tokenizer.texts_to_sequences([seed_text])[0]\n",
        "    token_list = pad_sequences([token_list], maxlen=max_sequence_len - 1, padding='pre')\n",
        "    predicted = np.argmax(model.predict(token_list), axis=-1)\n",
        "    output_word = \"\"\n",
        "    for word, index in tokenizer.word_index.items():\n",
        "        if index == predicted:\n",
        "            output_word = word\n",
        "            break\n",
        "    seed_text += \" \" + output_word\n",
        "\n",
        "print(seed_text)"
      ]
    }
  ],
  "metadata": {
    "accelerator": "GPU",
    "colab": {
      "gpuType": "T4",
      "provenance": []
    },
    "kernelspec": {
      "display_name": "Python 3",
      "name": "python3"
    },
    "language_info": {
      "name": "python"
    }
  },
  "nbformat": 4,
  "nbformat_minor": 0
}
